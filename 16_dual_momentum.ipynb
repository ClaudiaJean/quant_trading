{
 "cells": [
  {
   "cell_type": "code",
   "execution_count": 21,
   "metadata": {},
   "outputs": [],
   "source": [
    "%matplotlib inline"
   ]
  },
  {
   "cell_type": "code",
   "execution_count": 22,
   "metadata": {},
   "outputs": [],
   "source": [
    "import pandas as pd\n",
    "import numpy as np\n",
    "import matplotlib.pyplot as plt\n",
    "import datetime\n",
    "import time\n",
    "from tabulate import tabulate"
   ]
  },
  {
   "cell_type": "code",
   "execution_count": 23,
   "metadata": {},
   "outputs": [
    {
     "name": "stdout",
     "output_type": "stream",
     "text": [
      "CPU times: user 44 ms, sys: 0 ns, total: 44 ms\n",
      "Wall time: 46.5 ms\n"
     ]
    }
   ],
   "source": [
    "%%time\n",
    "code_list = ['W993008','W993009','W993010','W993023']\n",
    "data = []\n",
    "for code in code_list:\n",
    "    tmp = pd.read_csv('../data/csv_day/%s.csv'%code, index_col=False).sort_values(by=['Date'],ascending=True).reset_index(drop=True)\n",
    "    tmp.index = pd.to_datetime(tmp['Date'])\n",
    "    tmp = tmp.drop(['Date'], axis=1)\n",
    "    #tmp['code'] = code\n",
    "    data.append(tmp)"
   ]
  },
  {
   "cell_type": "code",
   "execution_count": 24,
   "metadata": {},
   "outputs": [],
   "source": [
    "data = pd.concat(data, keys=code_list)\n",
    "data.loc[code_list] = np.array(list(map(lambda x:float(str(x[0]).replace(',','')), data.loc[code_list].values))).reshape(-1,1)"
   ]
  },
  {
   "cell_type": "code",
   "execution_count": 25,
   "metadata": {},
   "outputs": [],
   "source": [
    "cur_date = data.loc[code_list[0]].index[120]\n",
    "prev_date = data.loc[code_list[0]].index[0]"
   ]
  },
  {
   "cell_type": "code",
   "execution_count": 26,
   "metadata": {},
   "outputs": [
    {
     "name": "stdout",
     "output_type": "stream",
     "text": [
      "                      Index\n",
      "        Date               \n",
      "W993008 2001-12-07  1142.80\n",
      "W993009 2001-12-07  1171.36\n",
      "W993010 2001-12-07  1087.73\n",
      "W993023 2001-12-07  1153.74\n",
      "                     Index\n",
      "        Date              \n",
      "W993008 2001-06-15  1000.0\n",
      "W993009 2001-06-15  1000.0\n",
      "W993010 2001-06-15  1000.0\n",
      "W993023 2001-06-15  1000.0\n"
     ]
    }
   ],
   "source": [
    "print(data.loc[(code_list,cur_date),:])\n",
    "print(data.loc[(code_list,prev_date),:])"
   ]
  },
  {
   "cell_type": "code",
   "execution_count": 27,
   "metadata": {},
   "outputs": [],
   "source": [
    "def plot_result(res):\n",
    "    # plot result\n",
    "    res = pd.DataFrame(res, columns=[\"Date\", \"balance\"])\n",
    "    fig, ax = plt.subplots()\n",
    "    ax.plot(res[\"Date\"], res[\"balance\"])\n",
    "\n",
    "    import matplotlib.dates as mdates\n",
    "    years = mdates.YearLocator()   # every year\n",
    "    months = mdates.MonthLocator()  # every month\n",
    "    yearsFmt = mdates.DateFormatter('%02Y')\n",
    "\n",
    "    # format the ticks\n",
    "    ax.xaxis.set_major_locator(years)\n",
    "    ax.xaxis.set_major_formatter(yearsFmt)\n",
    "    ax.xaxis.set_minor_locator(months)\n",
    "\n",
    "    # round to nearest years...\n",
    "    datemin = np.datetime64(res.iloc[0,0], 'Y')\n",
    "    datemax = np.datetime64(res.iloc[-1,0], 'Y') + np.timedelta64(1, 'Y')\n",
    "    ax.set_xlim(datemin, datemax)\n",
    "    ax.set_yscale(\"log\")\n",
    "\n",
    "    fig.autofmt_xdate()\n",
    "    plt.show()"
   ]
  },
  {
   "cell_type": "code",
   "execution_count": 28,
   "metadata": {},
   "outputs": [],
   "source": [
    "nlen = len(data.loc[code_list[0]])\n",
    "balance_list = []\n",
    "profit_list = []\n",
    "best_balance = prev_balance = balance = 1e4\n",
    "year_balance = [balance]\n",
    "mdd = 1\n",
    "prev_year = 2016\n",
    "for i in range(0,nlen):\n",
    "    if i < 21*6 or nlen < i+21:\n",
    "        continue\n",
    "    cur_date = data.loc[code_list[0]].index[i]\n",
    "    past_6m_date = data.loc[code_list[0]].index[i-21*6]\n",
    "    yesterday = data.loc[code_list[0]].index[i-1]\n",
    "    \n",
    "    # 월 1회 리밸런싱\n",
    "    if i%21 == 0:\n",
    "        # 최근 6개월간 가장 많이 오른 지수에 투자\n",
    "        div = np.divide(data.loc[(code_list,cur_date),'Index'], data.loc[(code_list,past_6m_date),'Index']).values\n",
    "        top = np.argmax(div)\n",
    "        # 네 개 지수의 6개월 수익이 예금금리 이하로 감소하면 모든 ETF 매도 후 현금 보유\n",
    "        if data.loc[(code_list[top],cur_date),'Index']/data.loc[(code_list[top],past_6m_date),'Index'] < 0.015:\n",
    "            top = -1\n",
    "    \n",
    "    if top >= 0:\n",
    "        amt = balance/data.loc[(code_list[top],yesterday),'Index']\n",
    "        balance += (data.loc[(code_list[top],cur_date),'Index']-data.loc[(code_list[top],yesterday),'Index'])*amt\n",
    "    \n",
    "    if cur_date.year != prev_year:\n",
    "        year_balance.append(balance)\n",
    "        prev_year = cur_date.year\n",
    "    profit_list.append(balance/prev_balance-1)\n",
    "    balance_list.append([cur_date, balance])\n",
    "    prev_balance = balance\n",
    "    best_balance = max(best_balance, balance)\n",
    "    mdd = min(mdd, balance/best_balance)"
   ]
  },
  {
   "cell_type": "code",
   "execution_count": 31,
   "metadata": {},
   "outputs": [
    {
     "name": "stdout",
     "output_type": "stream",
     "text": [
      "  초기자산    최종자산  Return      CAGR(%)    표준편차(%)    최고의해    최악의해    MDD    샤프지수\n",
      "----------  ----------  --------  ---------  -------------  ----------  ----------  -----  ----------\n",
      "     10000     92477.9  x9          12.2595        0.26381       76.15      -32.78     53        0.76\n"
     ]
    },
    {
     "data": {
      "image/png": "[encoded data removed]",
      "text/plain": [
       "<matplotlib.figure.Figure at 0x7fdb63d28748>"
      ]
     },
     "metadata": {
      "needs_background": "light"
     },
     "output_type": "display_data"
    }
   ],
   "source": [
    "CAGR = (int(balance/1e4)**(1/len(year_balance))-1)*100\n",
    "MDD = int((1-mdd)*100)\n",
    "year_profit = np.divide(year_balance[1:],year_balance[:-1])\n",
    "best_profit = max(year_profit)*100-100\n",
    "worst_profit = min(year_profit)*100-100\n",
    "best_profit = int(best_profit*100)/100\n",
    "worst_profit = int(worst_profit*100)/100\n",
    "SR = np.mean(profit_list)/np.std(profit_list)*np.sqrt(252)\n",
    "SR = int(100*SR)/100\n",
    "returns = 'x'+str(int(balance/1e4))\n",
    "headers = ['초기자산', '최종자산', 'Return', 'CAGR(%)', '표준편차(%)', '최고의해', '최악의해', 'MDD', '샤프지수']\n",
    "results = [1e4, balance, returns, CAGR, np.std(year_profit), best_profit, worst_profit, MDD, SR]\n",
    "print(tabulate([results], headers=headers))\n",
    "plot_result(balance_list)"
   ]
  }
 ],
 "metadata": {
  "kernelspec": {
   "display_name": "Python 3",
   "language": "python",
   "name": "python3"
  },
  "language_info": {
   "codemirror_mode": {
    "name": "ipython",
    "version": 3
   },
   "file_extension": ".py",
   "mimetype": "text/x-python",
   "name": "python",
   "nbconvert_exporter": "python",
   "pygments_lexer": "ipython3",
   "version": "3.5.2"
  }
 },
 "nbformat": 4,
 "nbformat_minor": 2
}
